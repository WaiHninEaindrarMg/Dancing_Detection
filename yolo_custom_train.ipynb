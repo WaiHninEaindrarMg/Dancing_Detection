{
 "cells": [
  {
   "cell_type": "code",
   "execution_count": null,
   "id": "c035a322",
   "metadata": {},
   "outputs": [],
   "source": [
    "cfg = 'D:/Dancing/custom_data.yaml'"
   ]
  },
  {
   "cell_type": "code",
   "execution_count": null,
   "id": "b066fb21",
   "metadata": {},
   "outputs": [],
   "source": [
    "from ultralytics import YOLO\n",
    "\n",
    "# Load a model\n",
    "model = YOLO(r\"D:/Dancing/yolov8n-seg.pt\")  # load a pretrained model (recommended for training)\n",
    "\n",
    "# Use the model\n",
    "results = model.train(data=\"D:/Dancing/custom_data.yaml\", epochs=200, workers=4, batch=8,imgsz=1080)  # train the model"
   ]
  },
  {
   "cell_type": "code",
   "execution_count": null,
   "id": "4b535395",
   "metadata": {},
   "outputs": [],
   "source": [
    "#Predictions\n",
    "# !yolo task=segment mode=predict model=./detection_model/best.pt source=\"dancing_.mp4\" conf = 0.9"
   ]
  }
 ],
 "metadata": {
  "kernelspec": {
   "display_name": "Python 3 (ipykernel)",
   "language": "python",
   "name": "python3"
  },
  "language_info": {
   "codemirror_mode": {
    "name": "ipython",
    "version": 3
   },
   "file_extension": ".py",
   "mimetype": "text/x-python",
   "name": "python",
   "nbconvert_exporter": "python",
   "pygments_lexer": "ipython3",
   "version": "3.9.0"
  }
 },
 "nbformat": 4,
 "nbformat_minor": 5
}
